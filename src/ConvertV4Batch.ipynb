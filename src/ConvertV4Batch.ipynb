{
 "cells": [
  {
   "cell_type": "code",
   "execution_count": 1,
   "metadata": {},
   "outputs": [],
   "source": [
    "from moviepy.editor import *\n",
    "import os\n",
    "from concurrent.futures import ProcessPoolExecutor"
   ]
  },
  {
   "cell_type": "code",
   "execution_count": 18,
   "metadata": {},
   "outputs": [],
   "source": [
    "\n",
    "def create_video_from_folder(folder, gif_file=None):\n",
    "    print(\"Start creating from: 📂\", folder)\n",
    "\n",
    "    # Путь к аудио-файлу\n",
    "    audio_file = os.path.join(folder, \"music.mp3\")\n",
    "\n",
    "    # Проверяем, существует ли аудио-файл\n",
    "    if not os.path.isfile(audio_file):\n",
    "        print(f\"❌Audio file not found in {folder}\")\n",
    "        return\n",
    "\n",
    "    # Список изображений в папке\n",
    "    images = [os.path.join(folder, img) for img in sorted(os.listdir(folder)) if img.endswith(('.png', '.jpg', '.jpeg'))]\n",
    "\n",
    "    # Длительность аудио-файла\n",
    "    audio = AudioFileClip(audio_file)\n",
    "    audio_duration = audio.duration\n",
    "\n",
    "    # Длительность каждого изображения (в секундах)\n",
    "    image_duration = 2  # Измените на желаемую длительность\n",
    "\n",
    "    # Создаем список клипов из изображений\n",
    "    image_clips = []\n",
    "    for img in images:\n",
    "        clip = ImageClip(img).set_duration(image_duration)\n",
    "        print(\"Load image: 🖼\", img)\n",
    "        image_clips.append(clip)\n",
    "\n",
    "    # Если нет изображений, используем черный фон\n",
    "    if not image_clips:\n",
    "        image_clips = [ColorClip(size=(1280, 720), color=(0, 0, 0)).set_duration(image_duration)]\n",
    "\n",
    "    # Объединяем клипы в одно слайд-шоу\n",
    "    slideshow = concatenate_videoclips(image_clips, method=\"compose\")\n",
    "\n",
    "    # Зацикливаем слайд-шоу на всю длительность аудио\n",
    "    slideshow = slideshow.loop(duration=audio_duration)\n",
    "\n",
    "    # Проверяем наличие GIF-файла и накладываем его на видео\n",
    "    if gif_file and os.path.isfile(gif_file):\n",
    "        print(\"✔Gif file found\")\n",
    "        # Загружаем GIF и зацикливаем на всю длительность аудио\n",
    "        gif_clip = (VideoFileClip(gif_file, has_mask=True)\n",
    "                    .loop(duration=audio_duration)\n",
    "                    # .resize(0.5)  # Масштабирование (0.5 = 50% от исходного размера)\n",
    "                    .set_position((\"left\", \"bottom\")))  # Позиция (можно изменить на нужную)\n",
    "\n",
    "        # Делаем фон GIF прозрачным (удаляем определенный цвет)\n",
    "        gif_clip = gif_clip.fx(vfx.mask_color, color=[0, 0, 0], thr=100, s=5)\n",
    "\n",
    "        # Накладываем GIF поверх слайд-шоу\n",
    "        final_video = CompositeVideoClip([slideshow, gif_clip])\n",
    "    else:\n",
    "        final_video = slideshow\n",
    "\n",
    "    # Добавляем аудио к видео\n",
    "    final_video = final_video.set_audio(audio)\n",
    "\n",
    "    # Сохраняем финальное видео\n",
    "    output_file = f\"{folder}_output_video.mp4\"\n",
    "    final_video.write_videofile(output_file, fps=24)\n",
    "    print(f\"Video created: {output_file}\")\n"
   ]
  },
  {
   "cell_type": "code",
   "execution_count": 19,
   "metadata": {},
   "outputs": [],
   "source": [
    "\n",
    "def process_folders(base_folder, num_workers=1):\n",
    "    # Поиск всех папок, начинающихся с \"Clip\"\n",
    "    folders = [os.path.join(base_folder, folder) \\\n",
    "               for folder in sorted(os.listdir(base_folder)) \\\n",
    "               if folder.startswith(\"Clip\") and len(folder) == 5]\n",
    "\n",
    "    print('Folders found: ', folders)\n",
    "\n",
    "    # Путь к GIF-файлу (если есть)\n",
    "    gif_file = base_folder + \"static/animated2.gif\"  # Вы можете указать путь к вашему GIF-файлу\n",
    "\n",
    "    # Используем параллельную обработку\n",
    "    # with ProcessPoolExecutor(max_workers=num_workers) as executor:\n",
    "    #     executor.map(create_video_from_folder, folders, [gif_file]*len(folders))\n",
    "    create_video_from_folder(folders[0], gif_file)\n"
   ]
  },
  {
   "cell_type": "code",
   "execution_count": 20,
   "metadata": {},
   "outputs": [
    {
     "name": "stdout",
     "output_type": "stream",
     "text": [
      "Folders found:  ['../Clip1', '../Clip1_output_video.mp4']\n",
      "Start creating from: 📂 ../Clip1\n",
      "Load image: 🖼 ../Clip1\\image1.png\n",
      "Load image: 🖼 ../Clip1\\image2.png\n",
      "Load image: 🖼 ../Clip1\\image3.png\n",
      "Load image: 🖼 ../Clip1\\image4.png\n",
      "Load image: 🖼 ../Clip1\\image5.png\n",
      "✔Gif file found\n",
      "Moviepy - Building video ../Clip1_output_video.mp4.\n",
      "MoviePy - Writing audio in Clip1_output_videoTEMP_MPY_wvf_snd.mp3\n"
     ]
    },
    {
     "name": "stderr",
     "output_type": "stream",
     "text": [
      "                                                                   \r"
     ]
    },
    {
     "name": "stdout",
     "output_type": "stream",
     "text": [
      "MoviePy - Done.\n",
      "Moviepy - Writing video ../Clip1_output_video.mp4\n",
      "\n"
     ]
    },
    {
     "name": "stderr",
     "output_type": "stream",
     "text": [
      "t:  49%|████▉     | 114/232 [02:28<02:46,  1.41s/it, now=None]"
     ]
    }
   ],
   "source": [
    "\n",
    "# Основной запуск\n",
    "# if __name__ == \"__main__\":\n",
    "\n",
    "base_folder = \"../\"  # Укажите путь к основной папке, содержащей папки Clip\n",
    "num_workers = 1  # Количество параллельных процессов\n",
    "\n",
    "process_folders(base_folder, num_workers)\n"
   ]
  },
  {
   "cell_type": "code",
   "execution_count": null,
   "metadata": {},
   "outputs": [],
   "source": []
  }
 ],
 "metadata": {
  "kernelspec": {
   "display_name": "Python 3",
   "language": "python",
   "name": "python3"
  },
  "language_info": {
   "codemirror_mode": {
    "name": "ipython",
    "version": 3
   },
   "file_extension": ".py",
   "mimetype": "text/x-python",
   "name": "python",
   "nbconvert_exporter": "python",
   "pygments_lexer": "ipython3",
   "version": "3.12.0"
  }
 },
 "nbformat": 4,
 "nbformat_minor": 2
}
