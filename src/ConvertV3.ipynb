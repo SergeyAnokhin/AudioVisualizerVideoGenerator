{
 "cells": [
  {
   "cell_type": "code",
   "execution_count": null,
   "id": "26d2ad93",
   "metadata": {},
   "outputs": [],
   "source": [
    "# !!! restart kernel after install !!!\n",
    "!!pip install moviepy --upgrade"
   ]
  },
  {
   "cell_type": "code",
   "execution_count": null,
   "id": "9d664268",
   "metadata": {
    "scrolled": false
   },
   "outputs": [],
   "source": [
    "!!pip install ffmpeg --upgrade"
   ]
  },
  {
   "cell_type": "code",
   "execution_count": null,
   "id": "902b0d08",
   "metadata": {},
   "outputs": [],
   "source": [
    "# !!! restart kernel after install !!!\n",
    "!!pip install Pillow==9.5.0    "
   ]
  },
  {
   "cell_type": "code",
   "execution_count": 1,
   "id": "9fd5801b",
   "metadata": {},
   "outputs": [],
   "source": [
    "from moviepy.editor import *\n",
    "import os\n",
    "\n",
    "path = os.getcwd()\n",
    "os.chdir(path)"
   ]
  },
  {
   "cell_type": "code",
   "execution_count": null,
   "id": "e79706a5",
   "metadata": {},
   "outputs": [],
   "source": [
    "# Путь к аудио-файлу\n",
    "audio_file = \"music_10s.mp3\"\n",
    "\n",
    "# Папка с изображениями\n",
    "images_folder = \"images\"\n",
    "\n",
    "\n",
    "# Список изображений в папке\n",
    "images = [os.path.join(images_folder, img) for img in sorted(os.listdir(images_folder)) if img.endswith(('.png', '.jpg', '.jpeg'))]\n",
    "\n",
    "# Длительность аудио-файла\n",
    "audio = AudioFileClip(audio_file)\n",
    "audio_duration = audio.duration\n",
    "\n",
    "print(\"Duration: \", audio_duration, 's')\n",
    "\n",
    "# Количество изображений\n",
    "num_images = len(images)\n",
    "\n",
    "# Длительность каждого изображения\n",
    "# image_duration = audio_duration / num_images if num_images > 0 else audio_duration\n",
    "# Длительность каждого изображения (в секундах)\n",
    "image_duration = 2  # Измените на желаемую длительность"
   ]
  },
  {
   "cell_type": "code",
   "execution_count": null,
   "id": "57f52669",
   "metadata": {},
   "outputs": [],
   "source": [
    "# Создаем список клипов из изображений\n",
    "image_clips = []\n",
    "for img in images:\n",
    "    print('Read image: 🖼 ', img)\n",
    "    clip = ImageClip(img).set_duration(image_duration)\n",
    "    image_clips.append(clip)\n",
    "\n",
    "# Если нет изображений, используем черный фон\n",
    "if not image_clips:\n",
    "    print('⚠ No images found 😕')\n",
    "    image_clips = [ColorClip(size=(1280, 720), color=(0, 0, 0)).set_duration(image_duration)]"
   ]
  },
  {
   "cell_type": "code",
   "execution_count": 4,
   "id": "569ee185",
   "metadata": {},
   "outputs": [],
   "source": [
    "# Объединяем клипы в одно слайд-шоу\n",
    "slideshow = concatenate_videoclips(image_clips, method=\"compose\")\n",
    "\n",
    "# Зацикливаем слайд-шоу на всю длительность аудио\n",
    "slideshow = slideshow.loop(duration=audio_duration)"
   ]
  },
  {
   "cell_type": "code",
   "execution_count": null,
   "id": "d5330a6a",
   "metadata": {},
   "outputs": [],
   "source": [
    "# Путь к GIF-файлу (если есть)\n",
    "gif_file = \"animated2.gif\"\n",
    "\n",
    "# Проверяем наличие GIF-файла и накладываем его на видео\n",
    "if os.path.isfile(gif_file):\n",
    "    print(\"Gif file found: \", gif_file)\n",
    "    # Загружаем GIF и зацикливаем на всю длительность аудио\n",
    "    gif_clip = (VideoFileClip(gif_file, has_mask=True)\n",
    "                .loop(duration=audio_duration)\n",
    "                .resize(1)  # Масштабирование (0.5 = 50% от исходного размера)\n",
    "                .set_position((\"left\", \"bottom\")))  # Позиция (можно изменить на нужную)\n",
    "\n",
    "    # Делаем фон GIF прозрачным (удаляем определенный цвет)\n",
    "    gif_clip = gif_clip.fx(vfx.mask_color, color=[0, 0, 0], thr=100, s=5)\n",
    "\n",
    "    # Накладываем GIF поверх слайд-шоу\n",
    "    final_video = CompositeVideoClip([slideshow, gif_clip])\n",
    "else:\n",
    "    final_video = slideshow\n",
    "\n",
    "# Добавляем аудио к видео\n",
    "final_video = final_video.set_audio(audio)\n",
    "\n",
    "# Сохраняем финальное видео\n",
    "final_video.write_videofile(\"output_video.mp4\", fps=24)"
   ]
  },
  {
   "cell_type": "code",
   "execution_count": null,
   "id": "9419bd60",
   "metadata": {},
   "outputs": [],
   "source": [
    "print(\"OK\")"
   ]
  },
  {
   "cell_type": "code",
   "execution_count": null,
   "id": "7deb5131",
   "metadata": {},
   "outputs": [],
   "source": []
  }
 ],
 "metadata": {
  "kernelspec": {
   "display_name": "Python 3 (ipykernel)",
   "language": "python",
   "name": "python3"
  },
  "language_info": {
   "codemirror_mode": {
    "name": "ipython",
    "version": 3
   },
   "file_extension": ".py",
   "mimetype": "text/x-python",
   "name": "python",
   "nbconvert_exporter": "python",
   "pygments_lexer": "ipython3",
   "version": "3.12.0"
  }
 },
 "nbformat": 4,
 "nbformat_minor": 5
}
