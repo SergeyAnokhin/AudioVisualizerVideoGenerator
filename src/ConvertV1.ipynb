{
 "cells": [
  {
   "cell_type": "code",
   "execution_count": null,
   "id": "26d2ad93",
   "metadata": {},
   "outputs": [],
   "source": [
    "!!pip install moviepy --upgrade"
   ]
  },
  {
   "cell_type": "code",
   "execution_count": null,
   "id": "9d664268",
   "metadata": {
    "scrolled": false
   },
   "outputs": [],
   "source": [
    "!!pip install ffmpeg --upgrade"
   ]
  },
  {
   "cell_type": "code",
   "execution_count": 1,
   "id": "9fd5801b",
   "metadata": {},
   "outputs": [],
   "source": [
    "from moviepy.editor import *\n",
    "import os"
   ]
  },
  {
   "cell_type": "code",
   "execution_count": 7,
   "id": "e79706a5",
   "metadata": {},
   "outputs": [
    {
     "name": "stdout",
     "output_type": "stream",
     "text": [
      "Images found:  5\n",
      "Duration:  66.24 s\n"
     ]
    }
   ],
   "source": [
    "path = os.getcwd()\n",
    "\n",
    "# Путь к аудио-файлу\n",
    "audio_file = path + \"\\music_short.mp3\"\n",
    "# Папка с изображениями\n",
    "images_folder = path + \"\\images\"\n",
    "\n",
    "# Список изображений в папке\n",
    "images = [os.path.join(images_folder, img) for img in sorted(os.listdir(images_folder)) if img.endswith(('.png', '.jpg', '.jpeg'))]\n",
    "print('Images found: ', len(images))\n",
    "\n",
    "# Длительность аудио-файла\n",
    "audio = AudioFileClip(audio_file)\n",
    "audio_duration = audio.duration\n",
    "print(\"Duration: \", audio_duration, 's')"
   ]
  },
  {
   "cell_type": "code",
   "execution_count": 8,
   "id": "57f52669",
   "metadata": {},
   "outputs": [
    {
     "name": "stdout",
     "output_type": "stream",
     "text": [
      "Read image: 🖼  C:\\Src\\Brainwave Project Tools\\Mp3ToVideo\\images\\((beautiful woman)), ((futuristic city)), ((futuristic summer outfit)), (vibrant purple hair), (confident and serene expression), harmonious blend of advanced architecture and nature, tall sleek buildings, lush g.png\n",
      "Read image: 🖼  C:\\Src\\Brainwave Project Tools\\Mp3ToVideo\\images\\((full-body view of a beautiful woman smiling)), ((futuristic city with open space)), ((futuristic summer outfit)), (vibrant purple hair), (confident and serene expression), expansive cityscape, vast sky, har (1).png\n",
      "Read image: 🖼  C:\\Src\\Brainwave Project Tools\\Mp3ToVideo\\images\\((full-body view of a beautiful woman smiling)), ((futuristic city with open space)), ((futuristic summer outfit)), (vibrant purple hair), (confident and serene expression), expansive cityscape, vast sky, har (2).png\n",
      "Read image: 🖼  C:\\Src\\Brainwave Project Tools\\Mp3ToVideo\\images\\((full-body view of a beautiful woman smiling)), ((futuristic city with open space)), ((futuristic summer outfit)), (vibrant purple hair), (confident and serene expression), expansive cityscape, vast sky, har (3).png\n",
      "Read image: 🖼  C:\\Src\\Brainwave Project Tools\\Mp3ToVideo\\images\\((full-body view of a beautiful woman smiling)), ((futuristic city with open space)), ((futuristic summer outfit)), (vibrant purple hair), (confident and serene expression), expansive cityscape, vast sky, harmoni.png\n"
     ]
    }
   ],
   "source": [
    "# Количество изображений\n",
    "num_images = len(images)\n",
    "\n",
    "# Длительность каждого изображения\n",
    "image_duration = audio_duration / num_images if num_images > 0 else audio_duration\n",
    "\n",
    "# Создаем список клипов из изображений\n",
    "image_clips = []\n",
    "for img in images:\n",
    "    print('Read image: 🖼 ', img)\n",
    "    clip = ImageClip(img).set_duration(image_duration)\n",
    "    image_clips.append(clip)\n",
    "\n",
    "# Если нет изображений, используем черный фон\n",
    "if not image_clips:\n",
    "    print('⚠ No images found 😕')\n",
    "    image_clips = [ColorClip(size=(1280, 720), color=(0, 0, 0)).set_duration(audio_duration)]"
   ]
  },
  {
   "cell_type": "code",
   "execution_count": 9,
   "id": "569ee185",
   "metadata": {},
   "outputs": [],
   "source": [
    "# Объединяем все клипы\n",
    "video = concatenate_videoclips(image_clips, method=\"compose\")\n",
    "\n",
    "# Добавляем аудио к видео\n",
    "final_video = video.set_audio(audio)"
   ]
  },
  {
   "cell_type": "code",
   "execution_count": 10,
   "id": "d5330a6a",
   "metadata": {},
   "outputs": [
    {
     "name": "stdout",
     "output_type": "stream",
     "text": [
      "Moviepy - Building video C:\\Src\\Brainwave Project Tools\\Mp3ToVideo\\output_video.mp4.\n",
      "MoviePy - Writing audio in output_videoTEMP_MPY_wvf_snd.mp3\n"
     ]
    },
    {
     "name": "stderr",
     "output_type": "stream",
     "text": [
      "                                                                                                                       \r"
     ]
    },
    {
     "name": "stdout",
     "output_type": "stream",
     "text": [
      "MoviePy - Done.\n",
      "Moviepy - Writing video C:\\Src\\Brainwave Project Tools\\Mp3ToVideo\\output_video.mp4\n",
      "\n"
     ]
    },
    {
     "name": "stderr",
     "output_type": "stream",
     "text": [
      "                                                                                                                       \r"
     ]
    },
    {
     "name": "stdout",
     "output_type": "stream",
     "text": [
      "Moviepy - Done !\n",
      "Moviepy - video ready C:\\Src\\Brainwave Project Tools\\Mp3ToVideo\\output_video.mp4\n"
     ]
    }
   ],
   "source": [
    "# Путь к GIF-файлу (если есть)\n",
    "gif_file = path + \"\\animated.gif\"\n",
    "\n",
    "if os.path.isfile(gif_file):\n",
    "    # Загружаем GIF и устанавливаем его длительность на длину видео\n",
    "    gif_clip = VideoFileClip(gif_file).loop(duration=audio_duration).set_position((\"right\", \"bottom\"))\n",
    "    # Накладываем GIF поверх видео\n",
    "    final_video = CompositeVideoClip([final_video, gif_clip])\n",
    "\n",
    "# Сохраняем финальное видео\n",
    "final_video.write_videofile(path + \"\\output_video.mp4\", fps=24)"
   ]
  },
  {
   "cell_type": "code",
   "execution_count": null,
   "id": "9419bd60",
   "metadata": {},
   "outputs": [],
   "source": []
  }
 ],
 "metadata": {
  "kernelspec": {
   "display_name": "Python 3 (ipykernel)",
   "language": "python",
   "name": "python3"
  },
  "language_info": {
   "codemirror_mode": {
    "name": "ipython",
    "version": 3
   },
   "file_extension": ".py",
   "mimetype": "text/x-python",
   "name": "python",
   "nbconvert_exporter": "python",
   "pygments_lexer": "ipython3",
   "version": "3.9.7"
  }
 },
 "nbformat": 4,
 "nbformat_minor": 5
}
