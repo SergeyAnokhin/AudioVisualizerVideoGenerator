{
 "cells": [
  {
   "cell_type": "code",
   "execution_count": 2,
   "metadata": {},
   "outputs": [
    {
     "name": "stdout",
     "output_type": "stream",
     "text": [
      "Processing file1.txt...\n",
      "Processing file2.txt...\n",
      "file1.txt done.\n",
      "Processing file3.txt...\n",
      "file2.txt done.\n",
      "Processing file4.txt...\n",
      "file3.txt done.\n",
      "Processing file5.txt...\n",
      "file4.txt done.\n",
      "file5.txt done.\n",
      "Results: ['file1.txt processed', 'file2.txt processed', 'file3.txt processed', 'file4.txt processed', 'file5.txt processed']\n"
     ]
    }
   ],
   "source": [
    "import concurrent.futures\n",
    "import time\n",
    "\n",
    "# Пример функции, которую мы будем выполнять параллельно\n",
    "def process_file(file):\n",
    "    print(f\"Processing {file}...\")\n",
    "    time.sleep(2)  # Симулируем какую-то работу\n",
    "    result = f\"{file} processed\"\n",
    "    print(f\"{file} done.\")\n",
    "    return result\n",
    "\n",
    "# Список файлов\n",
    "files = ['file1.txt', 'file2.txt', 'file3.txt', 'file4.txt', 'file5.txt']\n",
    "\n",
    "# Параллельное выполнение\n",
    "def parallel_processing(files, max_workers=2):\n",
    "    results = []\n",
    "    with concurrent.futures.ThreadPoolExecutor(max_workers=max_workers) as executor:\n",
    "        # Запускаем задачи параллельно\n",
    "        future_to_file = {executor.submit(process_file, file): file for file in files}\n",
    "        for future in concurrent.futures.as_completed(future_to_file):\n",
    "            file = future_to_file[future]\n",
    "            try:\n",
    "                result = future.result()\n",
    "                results.append(result)\n",
    "            except Exception as exc:\n",
    "                print(f\"{file} generated an exception: {exc}\")\n",
    "    return results\n",
    "\n",
    "# Запуск с ограничением на 2 параллельных процесса\n",
    "processed_files = parallel_processing(files, max_workers=2)\n",
    "print(\"Results:\", processed_files)\n"
   ]
  },
  {
   "cell_type": "code",
   "execution_count": null,
   "metadata": {},
   "outputs": [],
   "source": []
  }
 ],
 "metadata": {
  "kernelspec": {
   "display_name": "Python 3",
   "language": "python",
   "name": "python3"
  },
  "language_info": {
   "codemirror_mode": {
    "name": "ipython",
    "version": 3
   },
   "file_extension": ".py",
   "mimetype": "text/x-python",
   "name": "python",
   "nbconvert_exporter": "python",
   "pygments_lexer": "ipython3",
   "version": "3.12.0"
  }
 },
 "nbformat": 4,
 "nbformat_minor": 2
}
