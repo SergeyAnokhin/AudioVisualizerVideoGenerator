{
 "cells": [
  {
   "cell_type": "code",
   "execution_count": null,
   "metadata": {},
   "outputs": [],
   "source": [
    "!!pip install numpy librosa opencv-python\n",
    "# %reset -f"
   ]
  },
  {
   "cell_type": "code",
   "execution_count": null,
   "metadata": {},
   "outputs": [],
   "source": [
    "!!pip install librosa"
   ]
  },
  {
   "cell_type": "code",
   "execution_count": null,
   "metadata": {},
   "outputs": [],
   "source": [
    "!!python.exe -m pip install --upgrade pip"
   ]
  },
  {
   "cell_type": "code",
   "execution_count": 5,
   "metadata": {},
   "outputs": [],
   "source": [
    "from moviepy.editor import *\n",
    "import os\n",
    "from concurrent.futures import ProcessPoolExecutor\n",
    "import numpy as np\n",
    "import librosa\n",
    "import cv2"
   ]
  },
  {
   "cell_type": "code",
   "execution_count": 13,
   "metadata": {},
   "outputs": [],
   "source": [
    "def create_equalizer_clip(audio_file, duration, fps=24, size=(1280, 720)):\n",
    "    # Загружаем аудио файл\n",
    "    y, sr = librosa.load(audio_file, sr=None, mono=False)\n",
    "\n",
    "    # Убедимся, что аудио стерео\n",
    "    if y.ndim == 1:\n",
    "        y = np.array([y, y])\n",
    "\n",
    "    # Параметры для обработки аудио\n",
    "    hop_length = int(sr / fps)\n",
    "    n_fft = 2048\n",
    "\n",
    "    # Получаем амплитудные спектры для левого и правого каналов\n",
    "    S_left = np.abs(librosa.stft(y[0], n_fft=n_fft, hop_length=hop_length))\n",
    "    S_right = np.abs(librosa.stft(y[1], n_fft=n_fft, hop_length=hop_length))\n",
    "\n",
    "    # Усредняем по частотам для получения амплитудных огибающих\n",
    "    left_env = np.mean(S_left, axis=0)\n",
    "    right_env = np.mean(S_right, axis=0)\n",
    "\n",
    "    # Нормализуем амплитуды\n",
    "    left_env /= np.max(left_env)\n",
    "    right_env /= np.max(right_env)\n",
    "\n",
    "    # Убеждаемся, что количество кадров соответствует длительности и fps\n",
    "    num_frames = int(duration * fps)\n",
    "    left_env = np.interp(np.linspace(0, len(left_env), num_frames), np.arange(len(left_env)), left_env)\n",
    "    right_env = np.interp(np.linspace(0, len(right_env), num_frames), np.arange(len(right_env)), right_env)\n",
    "\n",
    "    def make_frame(t):\n",
    "        frame = np.zeros((size[1], size[0], 3), dtype=np.uint8)\n",
    "        frame[:] = (0, 0, 0)  # Черный фон\n",
    "\n",
    "        frame_idx = int(t * fps)\n",
    "        if frame_idx >= num_frames:\n",
    "            frame_idx = num_frames - 1\n",
    "\n",
    "        # Параметры для рисования\n",
    "        center_left = (int(size[0]*0.25), int(size[1]*0.5))\n",
    "        center_right = (int(size[0]*0.75), int(size[1]*0.5))\n",
    "        radius = 50  # Радиус центрального круга\n",
    "        num_bars = 30  # Количество столбиков вокруг круга\n",
    "        max_bar_length = 100  # Максимальная длина столбика\n",
    "\n",
    "        # Рисуем центральные круги\n",
    "        cv2.circle(frame, center_left, radius, (255, 255, 255), thickness=-1)\n",
    "        cv2.circle(frame, center_right, radius, (255, 255, 255), thickness=-1)\n",
    "\n",
    "        # Углы для столбиков\n",
    "        angles = np.linspace(0, 2*np.pi, num_bars, endpoint=False)\n",
    "\n",
    "        # Столбики левого канала\n",
    "        amplitude = left_env[frame_idx]\n",
    "        for angle in angles:\n",
    "            x1 = int(center_left[0] + radius * np.cos(angle))\n",
    "            y1 = int(center_left[1] + radius * np.sin(angle))\n",
    "            bar_length = int(amplitude * max_bar_length)\n",
    "            x2 = int(center_left[0] + (radius + bar_length) * np.cos(angle))\n",
    "            y2 = int(center_left[1] + (radius + bar_length) * np.sin(angle))\n",
    "            color = (0, 255, 0)  # Зеленый цвет для левого канала\n",
    "            cv2.line(frame, (x1, y1), (x2, y2), color, thickness=4)\n",
    "\n",
    "        # Столбики правого канала\n",
    "        amplitude = right_env[frame_idx]\n",
    "        for angle in angles:\n",
    "            x1 = int(center_right[0] + radius * np.cos(angle))\n",
    "            y1 = int(center_right[1] + radius * np.sin(angle))\n",
    "            bar_length = int(amplitude * max_bar_length)\n",
    "            x2 = int(center_right[0] + (radius + bar_length) * np.cos(angle))\n",
    "            y2 = int(center_right[1] + (radius + bar_length) * np.sin(angle))\n",
    "            color = (0, 0, 255)  # Красный цвет для правого канала\n",
    "            cv2.line(frame, (x1, y1), (x2, y2), color, thickness=4)\n",
    "\n",
    "        return frame\n",
    "\n",
    "    equalizer_clip = VideoClip(make_frame, duration=duration).set_fps(fps)\n",
    "    return equalizer_clip\n"
   ]
  },
  {
   "cell_type": "code",
   "execution_count": 14,
   "metadata": {},
   "outputs": [],
   "source": [
    "\n",
    "def create_video_from_folder(folder, gif_file=None):\n",
    "    print(\"Start creating from: 📂\", folder)\n",
    "\n",
    "    # Путь к аудио-файлу\n",
    "    audio_file = os.path.join(folder, \"music.mp3\")\n",
    "\n",
    "    # Проверяем, существует ли аудио-файл\n",
    "    if not os.path.isfile(audio_file):\n",
    "        print(f\"❌Audio file not found in {folder}\")\n",
    "        return\n",
    "\n",
    "    # Список изображений в папке\n",
    "    images = [os.path.join(folder, img) for img in sorted(os.listdir(folder)) if img.endswith(('.png', '.jpg', '.jpeg'))]\n",
    "\n",
    "    # Длительность аудио-файла\n",
    "    audio = AudioFileClip(audio_file)\n",
    "    audio_duration = audio.duration\n",
    "\n",
    "    # Длительность каждого изображения (в секундах)\n",
    "    image_duration = 2  # Измените на желаемую длительность\n",
    "\n",
    "    # Создаем список клипов из изображений\n",
    "    image_clips = []\n",
    "    for img in images:\n",
    "        clip = ImageClip(img).set_duration(image_duration)\n",
    "        print(\"Load image: 🖼\", img)\n",
    "        image_clips.append(clip)\n",
    "\n",
    "    # Если нет изображений, используем черный фон\n",
    "    if not image_clips:\n",
    "        image_clips = [ColorClip(size=(1280, 720), color=(0, 0, 0)).set_duration(image_duration)]\n",
    "\n",
    "    # Объединяем клипы в одно слайд-шоу\n",
    "    slideshow = concatenate_videoclips(image_clips, method=\"compose\")\n",
    "\n",
    "    # Зацикливаем слайд-шоу на всю длительность аудио\n",
    "    slideshow = slideshow.loop(duration=audio_duration)\n",
    "\n",
    "    # Проверяем наличие GIF-файла и накладываем его на видео\n",
    "    if gif_file and os.path.isfile(gif_file):\n",
    "        print(\"✔Gif file found\")\n",
    "        # Загружаем GIF и зацикливаем на всю длительность аудио\n",
    "        gif_clip = (VideoFileClip(gif_file, has_mask=True)\n",
    "                    .loop(duration=audio_duration)\n",
    "                    # .resize(0.5)  # Масштабирование (0.5 = 50% от исходного размера)\n",
    "                    .set_position((\"left\", \"bottom\")))  # Позиция (можно изменить на нужную)\n",
    "\n",
    "        # Делаем фон GIF прозрачным (удаляем определенный цвет)\n",
    "        gif_clip = gif_clip.fx(vfx.mask_color, color=[0, 0, 0], thr=100, s=5)\n",
    "\n",
    "        # Накладываем GIF поверх слайд-шоу\n",
    "        final_video = CompositeVideoClip([slideshow, gif_clip])\n",
    "    else:\n",
    "        final_video = slideshow\n",
    "\n",
    "    # Добавляем аудио к видео\n",
    "    final_video = final_video.set_audio(audio)\n",
    "\n",
    "    # Создаем эквалайзерный клип\n",
    "    print(\"⏩Create equalizer visualization\")\n",
    "    equalizer_clip = create_equalizer_clip(audio_file, duration=audio_duration, size=final_video.size)\n",
    "    equalizer_clip = equalizer_clip.set_opacity(0.8)  # Опционально: установить прозрачность\n",
    "\n",
    "    # Накладываем эквалайзер поверх финального видео\n",
    "    print(\"➕Add equalizer visualization\")\n",
    "    final_video = CompositeVideoClip([final_video, equalizer_clip])\n",
    "\n",
    "    # Сохраняем финальное видео\n",
    "    output_file = f\"{folder}_output_video.mp4\"\n",
    "    final_video.write_videofile(output_file, fps=24)\n",
    "    print(f\"Video created: {output_file}\")\n"
   ]
  },
  {
   "cell_type": "code",
   "execution_count": 15,
   "metadata": {},
   "outputs": [],
   "source": [
    "\n",
    "def process_folders(base_folder, num_workers=1):\n",
    "    # Поиск всех папок, начинающихся с \"Clip\"\n",
    "    folders = [os.path.join(base_folder, folder) \\\n",
    "               for folder in sorted(os.listdir(base_folder)) \\\n",
    "               if folder.startswith(\"Clip\") and len(folder) == 5]\n",
    "\n",
    "    print('Folders found: ', folders)\n",
    "\n",
    "    # Путь к GIF-файлу (если есть)\n",
    "    gif_file = base_folder + \"static/animated2.gif\"  # Вы можете указать путь к вашему GIF-файлу\n",
    "\n",
    "    # Используем параллельную обработку\n",
    "    # with ProcessPoolExecutor(max_workers=num_workers) as executor:\n",
    "    #     executor.map(create_video_from_folder, folders, [gif_file]*len(folders))\n",
    "    create_video_from_folder(folders[0], gif_file)\n"
   ]
  },
  {
   "cell_type": "code",
   "execution_count": 16,
   "metadata": {},
   "outputs": [
    {
     "name": "stdout",
     "output_type": "stream",
     "text": [
      "Folders found:  ['../Clip1']\n",
      "Start creating from: 📂 ../Clip1\n",
      "Load image: 🖼 ../Clip1\\image1.png\n",
      "Load image: 🖼 ../Clip1\\image2.png\n",
      "Load image: 🖼 ../Clip1\\image3.png\n",
      "Load image: 🖼 ../Clip1\\image4.png\n",
      "Load image: 🖼 ../Clip1\\image5.png\n",
      "✔Gif file found\n",
      "⏩Create equalizer visualization\n",
      "➕Add equalizer visualization\n"
     ]
    },
    {
     "name": "stderr",
     "output_type": "stream",
     "text": [
      "t:  85%|████████▌ | 198/232 [16:01<01:05,  1.92s/it, now=None]"
     ]
    },
    {
     "name": "stdout",
     "output_type": "stream",
     "text": [
      "Moviepy - Building video ../Clip1_output_video.mp4.\n",
      "MoviePy - Writing audio in Clip1_output_videoTEMP_MPY_wvf_snd.mp3\n"
     ]
    },
    {
     "name": "stderr",
     "output_type": "stream",
     "text": [
      "t:  85%|████████▌ | 198/232 [16:01<01:05,  1.92s/it, now=None]"
     ]
    },
    {
     "name": "stdout",
     "output_type": "stream",
     "text": [
      "MoviePy - Done.\n",
      "Moviepy - Writing video ../Clip1_output_video.mp4\n",
      "\n"
     ]
    },
    {
     "name": "stderr",
     "output_type": "stream",
     "text": []
    }
   ],
   "source": [
    "\n",
    "# Основной запуск\n",
    "# if __name__ == \"__main__\":\n",
    "\n",
    "base_folder = \"../\"  # Укажите путь к основной папке, содержащей папки Clip\n",
    "num_workers = 1  # Количество параллельных процессов\n",
    "\n",
    "process_folders(base_folder, num_workers)\n"
   ]
  },
  {
   "cell_type": "code",
   "execution_count": null,
   "metadata": {},
   "outputs": [],
   "source": []
  }
 ],
 "metadata": {
  "kernelspec": {
   "display_name": "Python 3",
   "language": "python",
   "name": "python3"
  },
  "language_info": {
   "codemirror_mode": {
    "name": "ipython",
    "version": 3
   },
   "file_extension": ".py",
   "mimetype": "text/x-python",
   "name": "python",
   "nbconvert_exporter": "python",
   "pygments_lexer": "ipython3",
   "version": "3.12.0"
  }
 },
 "nbformat": 4,
 "nbformat_minor": 2
}
