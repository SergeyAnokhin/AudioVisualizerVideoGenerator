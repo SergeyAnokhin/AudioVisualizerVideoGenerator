{
 "cells": [
  {
   "cell_type": "code",
   "execution_count": 2,
   "id": "26d2ad93",
   "metadata": {},
   "outputs": [
    {
     "data": {
      "text/plain": [
       "['Looking in indexes: https://pypi.org/simple, https://www.piwheels.org/simple',\n",
       " 'Collecting moviepy',\n",
       " '  Downloading https://www.piwheels.org/simple/moviepy/moviepy-1.0.3-py3-none-any.whl (110 kB)',\n",
       " '\\x1b[?25l     \\x1b[90m━━━━━━━━━━━━━━━━━━━━━━━━━━━━━━━━━━━━━━━━\\x1b[0m \\x1b[32m0.0/110.7 kB\\x1b[0m \\x1b[31m?\\x1b[0m eta \\x1b[36m-:--:--\\x1b[0m',\n",
       " '\\x1b[2K     \\x1b[90m━━━━━━━━━━━━━━━━━━━━━━━━━━━━━━━━━━━━━━━\\x1b[0m \\x1b[32m110.7/110.7 kB\\x1b[0m \\x1b[31m4.5 MB/s\\x1b[0m eta \\x1b[36m0:00:00\\x1b[0m',\n",
       " '\\x1b[?25hCollecting decorator<5.0,>=4.0.2 (from moviepy)',\n",
       " '  Downloading https://www.piwheels.org/simple/decorator/decorator-4.4.2-py2.py3-none-any.whl (9.2 kB)',\n",
       " 'Collecting tqdm<5.0,>=4.11.2 (from moviepy)',\n",
       " '  Downloading https://www.piwheels.org/simple/tqdm/tqdm-4.66.5-py3-none-any.whl (78 kB)',\n",
       " '\\x1b[?25l     \\x1b[90m━━━━━━━━━━━━━━━━━━━━━━━━━━━━━━━━━━━━━━━━\\x1b[0m \\x1b[32m0.0/78.4 kB\\x1b[0m \\x1b[31m?\\x1b[0m eta \\x1b[36m-:--:--\\x1b[0m',\n",
       " '\\x1b[2K     \\x1b[90m━━━━━━━━━━━━━━━━━━━━━━━━━━━━━━━━━━━━━━━━\\x1b[0m \\x1b[32m78.4/78.4 kB\\x1b[0m \\x1b[31m18.4 MB/s\\x1b[0m eta \\x1b[36m0:00:00\\x1b[0m',\n",
       " '\\x1b[?25hRequirement already satisfied: requests<3.0,>=2.8.1 in /usr/local/lib/python3.11/dist-packages (from moviepy) (2.32.3)',\n",
       " 'Collecting proglog<=1.0.0 (from moviepy)',\n",
       " '  Downloading https://www.piwheels.org/simple/proglog/proglog-0.1.10-py3-none-any.whl (6.3 kB)',\n",
       " 'Requirement already satisfied: numpy>=1.17.3 in /usr/local/lib/python3.11/dist-packages (from moviepy) (2.0.0)',\n",
       " 'Collecting imageio<3.0,>=2.5 (from moviepy)',\n",
       " '  Downloading https://www.piwheels.org/simple/imageio/imageio-2.35.1-py3-none-any.whl (315 kB)',\n",
       " '\\x1b[?25l     \\x1b[90m━━━━━━━━━━━━━━━━━━━━━━━━━━━━━━━━━━━━━━━━\\x1b[0m \\x1b[32m0.0/315.4 kB\\x1b[0m \\x1b[31m?\\x1b[0m eta \\x1b[36m-:--:--\\x1b[0m',\n",
       " '\\x1b[2K     \\x1b[90m━━━━━━━━━━━━━━━━━━━━━━━━━━━━━━━━━━━━━━\\x1b[0m \\x1b[32m315.4/315.4 kB\\x1b[0m \\x1b[31m11.8 MB/s\\x1b[0m eta \\x1b[36m0:00:00\\x1b[0m',\n",
       " '\\x1b[?25hCollecting imageio-ffmpeg>=0.2.0 (from moviepy)',\n",
       " '  Downloading imageio_ffmpeg-0.5.1-py3-none-manylinux2010_x86_64.whl.metadata (1.6 kB)',\n",
       " 'Requirement already satisfied: pillow>=8.3.2 in /usr/local/lib/python3.11/dist-packages (from imageio<3.0,>=2.5->moviepy) (10.4.0)',\n",
       " 'Requirement already satisfied: setuptools in /usr/local/lib/python3.11/dist-packages (from imageio-ffmpeg>=0.2.0->moviepy) (70.3.0)',\n",
       " 'Requirement already satisfied: charset-normalizer<4,>=2 in /usr/local/lib/python3.11/dist-packages (from requests<3.0,>=2.8.1->moviepy) (3.3.2)',\n",
       " 'Requirement already satisfied: idna<4,>=2.5 in /usr/local/lib/python3.11/dist-packages (from requests<3.0,>=2.8.1->moviepy) (3.7)',\n",
       " 'Requirement already satisfied: urllib3<3,>=1.21.1 in /usr/local/lib/python3.11/dist-packages (from requests<3.0,>=2.8.1->moviepy) (2.2.2)',\n",
       " 'Requirement already satisfied: certifi>=2017.4.17 in /usr/local/lib/python3.11/dist-packages (from requests<3.0,>=2.8.1->moviepy) (2024.7.4)',\n",
       " 'Downloading imageio_ffmpeg-0.5.1-py3-none-manylinux2010_x86_64.whl (26.9 MB)',\n",
       " '\\x1b[?25l   \\x1b[90m━━━━━━━━━━━━━━━━━━━━━━━━━━━━━━━━━━━━━━━━\\x1b[0m \\x1b[32m0.0/26.9 MB\\x1b[0m \\x1b[31m?\\x1b[0m eta \\x1b[36m-:--:--\\x1b[0m',\n",
       " '\\x1b[2K   \\x1b[91m━━\\x1b[0m\\x1b[91m╸\\x1b[0m\\x1b[90m━━━━━━━━━━━━━━━━━━━━━━━━━━━━━━━━━━━━━\\x1b[0m \\x1b[32m1.7/26.9 MB\\x1b[0m \\x1b[31m51.4 MB/s\\x1b[0m eta \\x1b[36m0:00:01\\x1b[0m',\n",
       " '\\x1b[2K   \\x1b[91m━━━\\x1b[0m\\x1b[90m╺\\x1b[0m\\x1b[90m━━━━━━━━━━━━━━━━━━━━━━━━━━━━━━━━━━━━\\x1b[0m \\x1b[32m2.1/26.9 MB\\x1b[0m \\x1b[31m53.5 MB/s\\x1b[0m eta \\x1b[36m0:00:01\\x1b[0m',\n",
       " '\\x1b[2K   \\x1b[91m━━━\\x1b[0m\\x1b[90m╺\\x1b[0m\\x1b[90m━━━━━━━━━━━━━━━━━━━━━━━━━━━━━━━━━━━━\\x1b[0m \\x1b[32m2.1/26.9 MB\\x1b[0m \\x1b[31m53.5 MB/s\\x1b[0m eta \\x1b[36m0:00:01\\x1b[0m',\n",
       " '\\x1b[2K   \\x1b[91m━━━━━━\\x1b[0m\\x1b[91m╸\\x1b[0m\\x1b[90m━━━━━━━━━━━━━━━━━━━━━━━━━━━━━━━━━\\x1b[0m \\x1b[32m4.6/26.9 MB\\x1b[0m \\x1b[31m33.0 MB/s\\x1b[0m eta \\x1b[36m0:00:01\\x1b[0m',\n",
       " '\\x1b[2K   \\x1b[91m━━━━━━━━━━━━\\x1b[0m\\x1b[90m╺\\x1b[0m\\x1b[90m━━━━━━━━━━━━━━━━━━━━━━━━━━━\\x1b[0m \\x1b[32m8.2/26.9 MB\\x1b[0m \\x1b[31m47.5 MB/s\\x1b[0m eta \\x1b[36m0:00:01\\x1b[0m',\n",
       " '\\x1b[2K   \\x1b[91m━━━━━━━━━━━━━━━━━━\\x1b[0m\\x1b[90m╺\\x1b[0m\\x1b[90m━━━━━━━━━━━━━━━━━━━━━\\x1b[0m \\x1b[32m12.3/26.9 MB\\x1b[0m \\x1b[31m104.7 MB/s\\x1b[0m eta \\x1b[36m0:00:01\\x1b[0m',\n",
       " '\\x1b[2K   \\x1b[91m━━━━━━━━━━━━━━━━━━━━━━━\\x1b[0m\\x1b[90m╺\\x1b[0m\\x1b[90m━━━━━━━━━━━━━━━━\\x1b[0m \\x1b[32m15.6/26.9 MB\\x1b[0m \\x1b[31m108.4 MB/s\\x1b[0m eta \\x1b[36m0:00:01\\x1b[0m',\n",
       " '\\x1b[2K   \\x1b[91m━━━━━━━━━━━━━━━━━━━━━━━━━━━\\x1b[0m\\x1b[90m╺\\x1b[0m\\x1b[90m━━━━━━━━━━━━\\x1b[0m \\x1b[32m18.2/26.9 MB\\x1b[0m \\x1b[31m96.1 MB/s\\x1b[0m eta \\x1b[36m0:00:01\\x1b[0m',\n",
       " '\\x1b[2K   \\x1b[91m━━━━━━━━━━━━━━━━━━━━━━━━━━━━━\\x1b[0m\\x1b[91m╸\\x1b[0m\\x1b[90m━━━━━━━━━━\\x1b[0m \\x1b[32m20.2/26.9 MB\\x1b[0m \\x1b[31m81.1 MB/s\\x1b[0m eta \\x1b[36m0:00:01\\x1b[0m',\n",
       " '\\x1b[2K   \\x1b[91m━━━━━━━━━━━━━━━━━━━━━━━━━━━━━━━━━\\x1b[0m\\x1b[91m╸\\x1b[0m\\x1b[90m━━━━━━\\x1b[0m \\x1b[32m22.7/26.9 MB\\x1b[0m \\x1b[31m74.4 MB/s\\x1b[0m eta \\x1b[36m0:00:01\\x1b[0m',\n",
       " '\\x1b[2K   \\x1b[91m━━━━━━━━━━━━━━━━━━━━━━━━━━━━━━━━━━━━━\\x1b[0m\\x1b[90m╺\\x1b[0m\\x1b[90m━━\\x1b[0m \\x1b[32m24.9/26.9 MB\\x1b[0m \\x1b[31m69.9 MB/s\\x1b[0m eta \\x1b[36m0:00:01\\x1b[0m',\n",
       " '\\x1b[2K   \\x1b[90m━━━━━━━━━━━━━━━━━━━━━━━━━━━━━━━━━━━━━━━━\\x1b[0m \\x1b[32m26.9/26.9 MB\\x1b[0m \\x1b[31m63.6 MB/s\\x1b[0m eta \\x1b[36m0:00:00\\x1b[0m',\n",
       " '\\x1b[?25hInstalling collected packages: tqdm, imageio-ffmpeg, imageio, decorator, proglog, moviepy',\n",
       " '  Attempting uninstall: decorator',\n",
       " '    Found existing installation: decorator 5.1.1',\n",
       " '    Uninstalling decorator-5.1.1:',\n",
       " '      Successfully uninstalled decorator-5.1.1',\n",
       " 'Successfully installed decorator-4.4.2 imageio-2.35.1 imageio-ffmpeg-0.5.1 moviepy-1.0.3 proglog-0.1.10 tqdm-4.66.5',\n",
       " \"\\x1b[33mWARNING: Running pip as the 'root' user can result in broken permissions and conflicting behaviour with the system package manager, possibly rendering your system unusable.It is recommended to use a virtual environment instead: https://pip.pypa.io/warnings/venv. Use the --root-user-action option if you know what you are doing and want to suppress this warning.\\x1b[0m\\x1b[33m\",\n",
       " '\\x1b[0m']"
      ]
     },
     "execution_count": 2,
     "metadata": {},
     "output_type": "execute_result"
    }
   ],
   "source": [
    "# restart kernel after restart !\n",
    "!!pip install moviepy --upgrade"
   ]
  },
  {
   "cell_type": "code",
   "execution_count": 3,
   "id": "9d664268",
   "metadata": {},
   "outputs": [
    {
     "data": {
      "text/plain": [
       "['Looking in indexes: https://pypi.org/simple, https://www.piwheels.org/simple',\n",
       " 'Collecting ffmpeg',\n",
       " '  Downloading https://www.piwheels.org/simple/ffmpeg/ffmpeg-1.4-py3-none-any.whl (6.8 kB)',\n",
       " 'Installing collected packages: ffmpeg',\n",
       " 'Successfully installed ffmpeg-1.4',\n",
       " \"\\x1b[33mWARNING: Running pip as the 'root' user can result in broken permissions and conflicting behaviour with the system package manager, possibly rendering your system unusable.It is recommended to use a virtual environment instead: https://pip.pypa.io/warnings/venv. Use the --root-user-action option if you know what you are doing and want to suppress this warning.\\x1b[0m\\x1b[33m\",\n",
       " '\\x1b[0m']"
      ]
     },
     "execution_count": 3,
     "metadata": {},
     "output_type": "execute_result"
    }
   ],
   "source": [
    "!!pip install ffmpeg --upgrade"
   ]
  },
  {
   "cell_type": "code",
   "execution_count": 1,
   "id": "902b0d08",
   "metadata": {},
   "outputs": [
    {
     "data": {
      "text/plain": [
       "['Looking in indexes: https://pypi.org/simple, https://www.piwheels.org/simple',\n",
       " 'Requirement already satisfied: Pillow==9.5.0 in /usr/local/lib/python3.11/dist-packages (9.5.0)',\n",
       " \"\\x1b[33mWARNING: Running pip as the 'root' user can result in broken permissions and conflicting behaviour with the system package manager, possibly rendering your system unusable.It is recommended to use a virtual environment instead: https://pip.pypa.io/warnings/venv. Use the --root-user-action option if you know what you are doing and want to suppress this warning.\\x1b[0m\\x1b[33m\",\n",
       " '\\x1b[0m']"
      ]
     },
     "execution_count": 1,
     "metadata": {},
     "output_type": "execute_result"
    }
   ],
   "source": [
    "# !!! RESTART KERNEL !!!\n",
    "!!pip install Pillow==9.5.0   "
   ]
  },
  {
   "cell_type": "code",
   "execution_count": 2,
   "id": "9fd5801b",
   "metadata": {},
   "outputs": [],
   "source": [
    "from moviepy.editor import *\n",
    "import os\n",
    "# from notebook.services.config import ConfigManager\n",
    "\n",
    "# cm = ConfigManager()\n",
    "# cm.update('notebook', {\n",
    "#     'ExecutePreprocessor': {\n",
    "#         'timeout': 600  # Установите значение времени в секундах\n",
    "#     }\n",
    "# })\n",
    "\n",
    "path = os.getcwd()\n",
    "os.chdir(path)"
   ]
  },
  {
   "cell_type": "code",
   "execution_count": 3,
   "id": "e79706a5",
   "metadata": {},
   "outputs": [
    {
     "name": "stdout",
     "output_type": "stream",
     "text": [
      "Duration:  66.24 s\n"
     ]
    }
   ],
   "source": [
    "# Путь к аудио-файлу\n",
    "audio_file = \"music_short.mp3\"\n",
    "\n",
    "# Папка с изображениями\n",
    "images_folder = \"images\"\n",
    "\n",
    "\n",
    "# Список изображений в папке\n",
    "images = [os.path.join(images_folder, img) for img in sorted(os.listdir(images_folder)) if img.endswith(('.png', '.jpg', '.jpeg'))]\n",
    "\n",
    "# Длительность аудио-файла\n",
    "audio = AudioFileClip(audio_file)\n",
    "audio_duration = audio.duration\n",
    "\n",
    "print(\"Audio duration: \", audio_duration, 's')\n",
    "\n",
    "# Количество изображений\n",
    "num_images = len(images)\n",
    "\n",
    "# Длительность каждого изображения\n",
    "# image_duration = audio_duration / num_images if num_images > 0 else audio_duration\n",
    "# Длительность каждого изображения (в секундах)\n",
    "image_duration = 10  # Измените на желаемую длительность"
   ]
  },
  {
   "cell_type": "code",
   "execution_count": 4,
   "id": "57f52669",
   "metadata": {},
   "outputs": [
    {
     "name": "stdout",
     "output_type": "stream",
     "text": [
      "Read image: 🖼  images/((beautiful woman)), ((futuristic city)), ((futuristic summer outfit)), (vibrant purple hair), (confident and serene expression), harmonious blend of advanced architecture and nature, tall sleek buildings, lush g.png\n",
      "Read image: 🖼  images/((full-body view of a beautiful woman smiling)), ((futuristic city with open space)), ((futuristic summer outfit)), (vibrant purple hair), (confident and serene expression), expansive cityscape, vast sky, har (1).png\n",
      "Read image: 🖼  images/((full-body view of a beautiful woman smiling)), ((futuristic city with open space)), ((futuristic summer outfit)), (vibrant purple hair), (confident and serene expression), expansive cityscape, vast sky, har (2).png\n",
      "Read image: 🖼  images/((full-body view of a beautiful woman smiling)), ((futuristic city with open space)), ((futuristic summer outfit)), (vibrant purple hair), (confident and serene expression), expansive cityscape, vast sky, har (3).png\n",
      "Read image: 🖼  images/((full-body view of a beautiful woman smiling)), ((futuristic city with open space)), ((futuristic summer outfit)), (vibrant purple hair), (confident and serene expression), expansive cityscape, vast sky, harmoni.png\n"
     ]
    }
   ],
   "source": [
    "# Создаем список клипов из изображений\n",
    "image_clips = []\n",
    "for img in images:\n",
    "    print('Read image: 🖼 ', img)\n",
    "    clip = ImageClip(img).set_duration(image_duration)\n",
    "    image_clips.append(clip)\n",
    "\n",
    "# Если нет изображений, используем черный фон\n",
    "if not image_clips:\n",
    "    print('⚠ No images found 😕')\n",
    "    image_clips = [ColorClip(size=(1280, 720), color=(0, 0, 0)).set_duration(image_duration)]"
   ]
  },
  {
   "cell_type": "code",
   "execution_count": 5,
   "id": "569ee185",
   "metadata": {},
   "outputs": [],
   "source": [
    "# Объединяем клипы в одно слайд-шоу\n",
    "slideshow = concatenate_videoclips(image_clips, method=\"compose\")\n",
    "\n",
    "# Зацикливаем слайд-шоу на всю длительность аудио\n",
    "slideshow = slideshow.loop(duration=audio_duration)"
   ]
  },
  {
   "cell_type": "code",
   "execution_count": null,
   "id": "d5330a6a",
   "metadata": {},
   "outputs": [
    {
     "name": "stdout",
     "output_type": "stream",
     "text": [
      "Gif file found:  animated2.gif\n",
      "Moviepy - Building video output_video.mp4.\n",
      "MoviePy - Writing audio in output_videoTEMP_MPY_wvf_snd.mp3\n"
     ]
    },
    {
     "name": "stderr",
     "output_type": "stream",
     "text": [
      "                                                                      \r"
     ]
    },
    {
     "name": "stdout",
     "output_type": "stream",
     "text": [
      "MoviePy - Done.\n",
      "Moviepy - Writing video output_video.mp4\n",
      "\n"
     ]
    },
    {
     "name": "stderr",
     "output_type": "stream",
     "text": [
      "t:  85%|████████▌ | 1355/1590 [14:37<02:15,  1.73it/s, now=None]"
     ]
    }
   ],
   "source": [
    "# Путь к GIF-файлу (если есть)\n",
    "gif_file = \"animated2.gif\"\n",
    "\n",
    "# Проверяем наличие GIF-файла и накладываем его на видео\n",
    "if os.path.isfile(gif_file):\n",
    "    print(\"Gif file found: \", gif_file)\n",
    "    # Загружаем GIF и зацикливаем на всю длительность аудио\n",
    "    gif_clip = (VideoFileClip(gif_file, has_mask=True)\n",
    "                .loop(duration=audio_duration)\n",
    "                .resize(1)  # Масштабирование (0.5 = 50% от исходного размера)\n",
    "                .set_position((\"left\", \"bottom\")))  # Позиция (можно изменить на нужную)\n",
    "\n",
    "    # Делаем фон GIF прозрачным (удаляем определенный цвет)\n",
    "    gif_clip = gif_clip.fx(vfx.mask_color, color=[0, 0, 0], thr=100, s=5)\n",
    "\n",
    "    # Накладываем GIF поверх слайд-шоу\n",
    "    final_video = CompositeVideoClip([slideshow, gif_clip])\n",
    "else:\n",
    "    final_video = slideshow\n",
    "\n",
    "# Добавляем аудио к видео\n",
    "final_video = final_video.set_audio(audio)\n",
    "\n",
    "# Сохраняем финальное видео\n",
    "final_video.write_videofile(\"output_video.mp4\", fps=24)"
   ]
  },
  {
   "cell_type": "code",
   "execution_count": null,
   "id": "9419bd60",
   "metadata": {},
   "outputs": [],
   "source": [
    "from jupyter_core.paths import jupyter_config_dir\n",
    "print(jupyter_config_dir())"
   ]
  },
  {
   "cell_type": "code",
   "execution_count": null,
   "id": "9ff49ecc-db6e-41ec-af82-5415b55e4eb2",
   "metadata": {},
   "outputs": [],
   "source": []
  },
  {
   "cell_type": "code",
   "execution_count": null,
   "id": "92fdea3f-1c69-47c2-9994-62ca35d42764",
   "metadata": {},
   "outputs": [],
   "source": []
  }
 ],
 "metadata": {
  "kernelspec": {
   "display_name": "Python 3 (ipykernel)",
   "language": "python",
   "name": "python3"
  },
  "language_info": {
   "codemirror_mode": {
    "name": "ipython",
    "version": 3
   },
   "file_extension": ".py",
   "mimetype": "text/x-python",
   "name": "python",
   "nbconvert_exporter": "python",
   "pygments_lexer": "ipython3",
   "version": "3.11.2"
  }
 },
 "nbformat": 4,
 "nbformat_minor": 5
}
