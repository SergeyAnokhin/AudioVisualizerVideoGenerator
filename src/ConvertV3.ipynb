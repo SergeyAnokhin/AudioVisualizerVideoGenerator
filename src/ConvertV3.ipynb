{
 "cells": [
  {
   "cell_type": "code",
   "execution_count": null,
   "id": "26d2ad93",
   "metadata": {},
   "outputs": [],
   "source": [
    "# restart kernel after restart !\n",
    "!!pip install moviepy --upgrade"
   ]
  },
  {
   "cell_type": "code",
   "execution_count": null,
   "id": "9d664268",
   "metadata": {
    "scrolled": false
   },
   "outputs": [],
   "source": [
    "!!pip install ffmpeg --upgrade"
   ]
  },
  {
   "cell_type": "code",
   "execution_count": 6,
   "id": "902b0d08",
   "metadata": {},
   "outputs": [
    {
     "data": {
      "text/plain": [
       "['Collecting Pillow==9.5.0',\n",
       " '  Obtaining dependency information for Pillow==9.5.0 from https://files.pythonhosted.org/packages/29/8a/f4cf3f32bc554f9260b645ea1151449ac13525796d3d1a42076d75945d8d/Pillow-9.5.0-cp312-cp312-win_amd64.whl.metadata',\n",
       " '  Downloading Pillow-9.5.0-cp312-cp312-win_amd64.whl.metadata (9.7 kB)',\n",
       " 'Downloading Pillow-9.5.0-cp312-cp312-win_amd64.whl (2.5 MB)',\n",
       " '   ---------------------------------------- 0.0/2.5 MB ? eta -:--:--',\n",
       " '   ---------------------------------------- 0.0/2.5 MB ? eta -:--:--',\n",
       " '   ---------------------------------------- 0.0/2.5 MB ? eta -:--:--',\n",
       " '   ---------------------------------------- 0.0/2.5 MB 330.3 kB/s eta 0:00:08',\n",
       " '   --- ------------------------------------ 0.2/2.5 MB 1.8 MB/s eta 0:00:02',\n",
       " '   ------------ --------------------------- 0.8/2.5 MB 4.6 MB/s eta 0:00:01',\n",
       " '   --------------------- ------------------ 1.4/2.5 MB 6.1 MB/s eta 0:00:01',\n",
       " '   ------------------------------ --------- 1.9/2.5 MB 7.2 MB/s eta 0:00:01',\n",
       " '   ---------------------------------------  2.5/2.5 MB 7.9 MB/s eta 0:00:01',\n",
       " '   ---------------------------------------- 2.5/2.5 MB 7.3 MB/s eta 0:00:00',\n",
       " 'Installing collected packages: Pillow',\n",
       " '  Attempting uninstall: Pillow',\n",
       " '    Found existing installation: pillow 10.4.0',\n",
       " '    Uninstalling pillow-10.4.0:',\n",
       " '      Successfully uninstalled pillow-10.4.0',\n",
       " \"ERROR: Could not install packages due to an OSError: [WinError 5] Accès refusé: 'C:\\\\\\\\Progs\\\\\\\\Python312\\\\\\\\Lib\\\\\\\\site-packages\\\\\\\\~il\\\\\\\\_imaging.cp312-win_amd64.pyd'\",\n",
       " 'Consider using the `--user` option or check the permissions.',\n",
       " '',\n",
       " '',\n",
       " '[notice] A new release of pip is available: 23.2.1 -> 24.2',\n",
       " '[notice] To update, run: python.exe -m pip install --upgrade pip']"
      ]
     },
     "execution_count": 6,
     "metadata": {},
     "output_type": "execute_result"
    }
   ],
   "source": [
    "!!pip install Pillow==9.5.0    "
   ]
  },
  {
   "cell_type": "code",
   "execution_count": 7,
   "id": "9fd5801b",
   "metadata": {},
   "outputs": [],
   "source": [
    "from moviepy.editor import *\n",
    "import os\n",
    "\n",
    "path = os.getcwd()\n",
    "os.chdir(path)"
   ]
  },
  {
   "cell_type": "code",
   "execution_count": 8,
   "id": "e79706a5",
   "metadata": {},
   "outputs": [
    {
     "name": "stdout",
     "output_type": "stream",
     "text": [
      "Duration:  9.64 s\n"
     ]
    }
   ],
   "source": [
    "# Путь к аудио-файлу\n",
    "audio_file = \"music_10s.mp3\"\n",
    "\n",
    "# Папка с изображениями\n",
    "images_folder = \"images\"\n",
    "\n",
    "\n",
    "# Список изображений в папке\n",
    "images = [os.path.join(images_folder, img) for img in sorted(os.listdir(images_folder)) if img.endswith(('.png', '.jpg', '.jpeg'))]\n",
    "\n",
    "# Длительность аудио-файла\n",
    "audio = AudioFileClip(audio_file)\n",
    "audio_duration = audio.duration\n",
    "\n",
    "print(\"Duration: \", audio_duration, 's')\n",
    "\n",
    "# Количество изображений\n",
    "num_images = len(images)\n",
    "\n",
    "# Длительность каждого изображения\n",
    "# image_duration = audio_duration / num_images if num_images > 0 else audio_duration\n",
    "# Длительность каждого изображения (в секундах)\n",
    "image_duration = 2  # Измените на желаемую длительность"
   ]
  },
  {
   "cell_type": "code",
   "execution_count": 9,
   "id": "57f52669",
   "metadata": {},
   "outputs": [
    {
     "name": "stdout",
     "output_type": "stream",
     "text": [
      "Read image: 🖼  images\\((beautiful woman)), ((futuristic city)), ((futuristic summer outfit)), (vibrant purple hair), (confident and serene expression), harmonious blend of advanced architecture and nature, tall sleek buildings, lush g.png\n",
      "Read image: 🖼  images\\((full-body view of a beautiful woman smiling)), ((futuristic city with open space)), ((futuristic summer outfit)), (vibrant purple hair), (confident and serene expression), expansive cityscape, vast sky, har (1).png\n",
      "Read image: 🖼  images\\((full-body view of a beautiful woman smiling)), ((futuristic city with open space)), ((futuristic summer outfit)), (vibrant purple hair), (confident and serene expression), expansive cityscape, vast sky, har (2).png\n",
      "Read image: 🖼  images\\((full-body view of a beautiful woman smiling)), ((futuristic city with open space)), ((futuristic summer outfit)), (vibrant purple hair), (confident and serene expression), expansive cityscape, vast sky, har (3).png\n",
      "Read image: 🖼  images\\((full-body view of a beautiful woman smiling)), ((futuristic city with open space)), ((futuristic summer outfit)), (vibrant purple hair), (confident and serene expression), expansive cityscape, vast sky, harmoni.png\n"
     ]
    }
   ],
   "source": [
    "# Создаем список клипов из изображений\n",
    "image_clips = []\n",
    "for img in images:\n",
    "    print('Read image: 🖼 ', img)\n",
    "    clip = ImageClip(img).set_duration(image_duration)\n",
    "    image_clips.append(clip)\n",
    "\n",
    "# Если нет изображений, используем черный фон\n",
    "if not image_clips:\n",
    "    print('⚠ No images found 😕')\n",
    "    image_clips = [ColorClip(size=(1280, 720), color=(0, 0, 0)).set_duration(image_duration)]"
   ]
  },
  {
   "cell_type": "code",
   "execution_count": 10,
   "id": "569ee185",
   "metadata": {},
   "outputs": [],
   "source": [
    "# Объединяем клипы в одно слайд-шоу\n",
    "slideshow = concatenate_videoclips(image_clips, method=\"compose\")\n",
    "\n",
    "# Зацикливаем слайд-шоу на всю длительность аудио\n",
    "slideshow = slideshow.loop(duration=audio_duration)"
   ]
  },
  {
   "cell_type": "code",
   "execution_count": 11,
   "id": "d5330a6a",
   "metadata": {},
   "outputs": [
    {
     "name": "stdout",
     "output_type": "stream",
     "text": [
      "Gif file found:  animated2.gif\n",
      "Moviepy - Building video output_video.mp4.\n",
      "MoviePy - Writing audio in output_videoTEMP_MPY_wvf_snd.mp3\n"
     ]
    },
    {
     "name": "stderr",
     "output_type": "stream",
     "text": [
      "                                                                   \r"
     ]
    },
    {
     "name": "stdout",
     "output_type": "stream",
     "text": [
      "MoviePy - Done.\n",
      "Moviepy - Writing video output_video.mp4\n",
      "\n"
     ]
    },
    {
     "name": "stderr",
     "output_type": "stream",
     "text": [
      "                                                              \r"
     ]
    },
    {
     "name": "stdout",
     "output_type": "stream",
     "text": [
      "Moviepy - Done !\n",
      "Moviepy - video ready output_video.mp4\n"
     ]
    }
   ],
   "source": [
    "# Путь к GIF-файлу (если есть)\n",
    "gif_file = \"animated2.gif\"\n",
    "\n",
    "# Проверяем наличие GIF-файла и накладываем его на видео\n",
    "if os.path.isfile(gif_file):\n",
    "    print(\"Gif file found: \", gif_file)\n",
    "    # Загружаем GIF и зацикливаем на всю длительность аудио\n",
    "    gif_clip = (VideoFileClip(gif_file, has_mask=True)\n",
    "                .loop(duration=audio_duration)\n",
    "                .resize(1)  # Масштабирование (0.5 = 50% от исходного размера)\n",
    "                .set_position((\"left\", \"bottom\")))  # Позиция (можно изменить на нужную)\n",
    "\n",
    "    # Делаем фон GIF прозрачным (удаляем определенный цвет)\n",
    "    gif_clip = gif_clip.fx(vfx.mask_color, color=[0, 0, 0], thr=100, s=5)\n",
    "\n",
    "    # Накладываем GIF поверх слайд-шоу\n",
    "    final_video = CompositeVideoClip([slideshow, gif_clip])\n",
    "else:\n",
    "    final_video = slideshow\n",
    "\n",
    "# Добавляем аудио к видео\n",
    "final_video = final_video.set_audio(audio)\n",
    "\n",
    "# Сохраняем финальное видео\n",
    "final_video.write_videofile(\"output_video.mp4\", fps=24)"
   ]
  },
  {
   "cell_type": "code",
   "execution_count": null,
   "id": "9419bd60",
   "metadata": {},
   "outputs": [],
   "source": []
  }
 ],
 "metadata": {
  "kernelspec": {
   "display_name": "Python 3 (ipykernel)",
   "language": "python",
   "name": "python3"
  },
  "language_info": {
   "codemirror_mode": {
    "name": "ipython",
    "version": 3
   },
   "file_extension": ".py",
   "mimetype": "text/x-python",
   "name": "python",
   "nbconvert_exporter": "python",
   "pygments_lexer": "ipython3",
   "version": "3.12.0"
  }
 },
 "nbformat": 4,
 "nbformat_minor": 5
}
